{
 "cells": [
  {
   "cell_type": "markdown",
   "id": "7e26b401-695b-45cf-a4dd-d38c1b7e2654",
   "metadata": {
    "jp-MarkdownHeadingCollapsed": true
   },
   "source": [
    "## operators"
   ]
  },
  {
   "cell_type": "code",
   "execution_count": 3,
   "id": "18d4b295-de00-43e5-96e1-9e2be06e9252",
   "metadata": {},
   "outputs": [
    {
     "name": "stdout",
     "output_type": "stream",
     "text": [
      "hello world\n"
     ]
    }
   ],
   "source": [
    "print(\"hello world\")"
   ]
  },
  {
   "cell_type": "code",
   "execution_count": 2,
   "id": "6407e685-4e21-48a9-8942-fb3d05be790c",
   "metadata": {},
   "outputs": [],
   "source": [
    "## arithematic operator"
   ]
  },
  {
   "cell_type": "code",
   "execution_count": 5,
   "id": "fc002855-2d4d-4096-a6ba-1d1d98d1d51e",
   "metadata": {},
   "outputs": [
    {
     "name": "stdout",
     "output_type": "stream",
     "text": [
      "11\n",
      "-1\n",
      "2.5\n",
      "30\n"
     ]
    }
   ],
   "source": [
    "print(5+6)\n",
    "\n",
    "print(5-6)\n",
    "\n",
    "print(5/2)\n",
    "\n",
    "print(5*6)"
   ]
  },
  {
   "cell_type": "code",
   "execution_count": 6,
   "id": "076b7c54-d4f4-4d7d-8be6-2dbc20f24172",
   "metadata": {},
   "outputs": [
    {
     "name": "stdout",
     "output_type": "stream",
     "text": [
      "2\n"
     ]
    }
   ],
   "source": [
    "## integer division \n",
    "print(5//2) "
   ]
  },
  {
   "cell_type": "code",
   "execution_count": 7,
   "id": "26465493-3de2-40d5-b656-9ec412826613",
   "metadata": {},
   "outputs": [
    {
     "name": "stdout",
     "output_type": "stream",
     "text": [
      "1\n",
      "25\n"
     ]
    }
   ],
   "source": [
    "## modulous operator== gives out the remainder\n",
    "print(5%2)\n",
    "## power of opertor \n",
    "print(5**2)"
   ]
  },
  {
   "cell_type": "code",
   "execution_count": 12,
   "id": "3b724fd4-6ccc-426d-970c-26a0b1c2f5af",
   "metadata": {},
   "outputs": [
    {
     "name": "stdout",
     "output_type": "stream",
     "text": [
      "True\n",
      "False\n",
      "False\n",
      "True\n"
     ]
    }
   ],
   "source": [
    "## relational opertor \n",
    "print(4<5)\n",
    "print(4>=5)\n",
    "print(4==5)\n",
    "print(4!=5)"
   ]
  },
  {
   "cell_type": "code",
   "execution_count": 13,
   "id": "722e81e5-137c-4fde-af9b-da89a1a173a7",
   "metadata": {},
   "outputs": [
    {
     "name": "stdout",
     "output_type": "stream",
     "text": [
      "0\n",
      "1\n",
      "False\n"
     ]
    }
   ],
   "source": [
    "## logicsal opertor \n",
    "print(1 and 0)\n",
    "print(1 or 0)\n",
    "print(not 1)"
   ]
  },
  {
   "cell_type": "code",
   "execution_count": 15,
   "id": "9ed16861-ab6f-4871-8357-5e6300ec988a",
   "metadata": {},
   "outputs": [
    {
     "name": "stdout",
     "output_type": "stream",
     "text": [
      "True\n",
      "False\n"
     ]
    }
   ],
   "source": [
    "## membership opertors\n",
    "print('d' in 'delhi')\n",
    "print('d' not in 'delhi')"
   ]
  },
  {
   "cell_type": "markdown",
   "id": "392945f3-10c3-456b-a24e-9a991c15b551",
   "metadata": {
    "jp-MarkdownHeadingCollapsed": true
   },
   "source": [
    "## if else in python"
   ]
  },
  {
   "cell_type": "code",
   "execution_count": 19,
   "id": "d7fefd8d-cbc5-465f-856e-6b70899f8db0",
   "metadata": {},
   "outputs": [
    {
     "name": "stdin",
     "output_type": "stream",
     "text": [
      "enter the email  vikas@gmail.com\n",
      "enter the password  1234\n"
     ]
    },
    {
     "name": "stdout",
     "output_type": "stream",
     "text": [
      "welcome\n"
     ]
    }
   ],
   "source": [
    " ## login program and indentation\n",
    "email = input('enter the email ')\n",
    "password = input('enter the password ')\n",
    "\n",
    "if email == 'vikas@gmail.com' and password == '1234':\n",
    "    print(\"welcome\")\n",
    "else:\n",
    "    print('not correct')"
   ]
  },
  {
   "cell_type": "code",
   "execution_count": 26,
   "id": "24ba44dd-639e-4c48-a4d0-fcd10c0f0c47",
   "metadata": {},
   "outputs": [
    {
     "name": "stdin",
     "output_type": "stream",
     "text": [
      "enter the email  vikas@gmail.com\n",
      "enter the password  54787\n"
     ]
    },
    {
     "name": "stdout",
     "output_type": "stream",
     "text": [
      "incorrect password\n"
     ]
    },
    {
     "name": "stdin",
     "output_type": "stream",
     "text": [
      "enter the password again  584\n"
     ]
    },
    {
     "name": "stdout",
     "output_type": "stream",
     "text": [
      "try again\n"
     ]
    }
   ],
   "source": [
    "###### elif\n",
    "email = input('enter the email ')\n",
    "password = input('enter the password ')\n",
    "\n",
    "if email == 'vikas@gmail.com' and password == '1234':\n",
    "    print(\"welcome\")\n",
    "elif email == 'vikas@gmail.com' and password != '1234':\n",
    "    print(\"incorrect password\")\n",
    "    password = input('enter the password again ')\n",
    "    if password == '1234':\n",
    "        print('welcome finally ')\n",
    "    else:\n",
    "        print('try again')\n",
    "\n",
    "else:\n",
    "    print('not correct')"
   ]
  },
  {
   "cell_type": "code",
   "execution_count": 31,
   "id": "56b561b4-21ee-488b-914d-3301b2b923b8",
   "metadata": {},
   "outputs": [
    {
     "name": "stdin",
     "output_type": "stream",
     "text": [
      "first num 89489\n",
      "second num 9895\n",
      "third num 5956\n"
     ]
    },
    {
     "name": "stdout",
     "output_type": "stream",
     "text": [
      "samllest number is 5956\n"
     ]
    }
   ],
   "source": [
    "## if else example\n",
    "## min num\n",
    "\n",
    "a= int(input('first num'))\n",
    "b= int(input('second num'))\n",
    "c= int(input('third num'))\n",
    "\n",
    "if a<b and a<c:\n",
    "    print(\"samllest number is\" , a )\n",
    "elif b<c:\n",
    "    print(\"samllest number is\" , b)\n",
    "else :\n",
    "    print(\"samllest number is\" , c)\n",
    "\n",
    "    "
   ]
  },
  {
   "cell_type": "code",
   "execution_count": 36,
   "id": "7383809c-ebfc-4370-963d-746e2a812517",
   "metadata": {},
   "outputs": [
    {
     "name": "stdin",
     "output_type": "stream",
     "text": [
      "first num 8\n",
      "enter the operation +\n",
      "second num 2\n"
     ]
    },
    {
     "name": "stdout",
     "output_type": "stream",
     "text": [
      "10\n"
     ]
    }
   ],
   "source": [
    "## menu driven calculator\n",
    "fnum= int(input('first num'))\n",
    "op= input('enter the operation')\n",
    "snum= int(input('second num'))\n",
    "\n",
    "\n",
    "if op == '+':\n",
    "    print(fnum+snum)\n",
    "elif op == '-':\n",
    "    print(fnum-snum)\n",
    "\n",
    "elif op == '*':\n",
    "    print(fnum*snum)\n",
    "\n",
    "elif op == '/':\n",
    "    print(fnum/snum)\n",
    "\n",
    "else:\n",
    "    print('enter the correct opertor')\n",
    "\n",
    "\n",
    "    "
   ]
  },
  {
   "cell_type": "markdown",
   "id": "ee437c67-bc4c-4529-916a-5272a1096385",
   "metadata": {
    "jp-MarkdownHeadingCollapsed": true
   },
   "source": [
    "## module in python "
   ]
  },
  {
   "cell_type": "code",
   "execution_count": 43,
   "id": "62594d23-c430-44b3-8764-b7c0a42f5da8",
   "metadata": {},
   "outputs": [
    {
     "data": {
      "text/plain": [
       "12.0"
      ]
     },
     "execution_count": 43,
     "metadata": {},
     "output_type": "execute_result"
    }
   ],
   "source": [
    "# math\n",
    "import math\n",
    "\n",
    "math.factorial(5)\n",
    "math.floor(6.8)\n",
    "math.sqrt(144)"
   ]
  },
  {
   "cell_type": "code",
   "execution_count": 44,
   "id": "35ed7e97-24a8-4b71-9fd8-02bb5be296c7",
   "metadata": {},
   "outputs": [
    {
     "data": {
      "text/plain": [
       "6"
      ]
     },
     "execution_count": 44,
     "metadata": {},
     "output_type": "execute_result"
    }
   ],
   "source": [
    "math.floor(6.8)\n"
   ]
  },
  {
   "cell_type": "code",
   "execution_count": 45,
   "id": "e9140f8c-f5ad-4000-ad3b-38d350daf38b",
   "metadata": {},
   "outputs": [
    {
     "data": {
      "text/plain": [
       "12.0"
      ]
     },
     "execution_count": 45,
     "metadata": {},
     "output_type": "execute_result"
    }
   ],
   "source": [
    "math.sqrt(144)"
   ]
  },
  {
   "cell_type": "code",
   "execution_count": 46,
   "id": "7bf8d41b-f2d2-41ff-8835-6461bc3eb8fe",
   "metadata": {},
   "outputs": [
    {
     "name": "stdout",
     "output_type": "stream",
     "text": [
      "['False', 'None', 'True', 'and', 'as', 'assert', 'async', 'await', 'break', 'class', 'continue', 'def', 'del', 'elif', 'else', 'except', 'finally', 'for', 'from', 'global', 'if', 'import', 'in', 'is', 'lambda', 'nonlocal', 'not', 'or', 'pass', 'raise', 'return', 'try', 'while', 'with', 'yield']\n"
     ]
    }
   ],
   "source": [
    "# keyword\n",
    "import keyword\n",
    "print(keyword.kwlist)"
   ]
  },
  {
   "cell_type": "code",
   "execution_count": null,
   "id": "77e705ba-b6fe-4ab9-8069-2d0d91b7a447",
   "metadata": {},
   "outputs": [],
   "source": [
    "# random\n",
    "import random\n",
    "print (random.randint(1,100))"
   ]
  },
  {
   "cell_type": "code",
   "execution_count": 54,
   "id": "5565bb67-c4fb-4c04-a71a-9ee62bb26af7",
   "metadata": {},
   "outputs": [
    {
     "name": "stdout",
     "output_type": "stream",
     "text": [
      "2025-08-10 13:28:05.407039\n"
     ]
    }
   ],
   "source": [
    "# datetime\n",
    "\n",
    "import datetime\n",
    "print(datetime.datetime.now())\n"
   ]
  },
  {
   "cell_type": "code",
   "execution_count": 55,
   "id": "e4a29f49-6585-4f0d-85a6-6d374fba1537",
   "metadata": {},
   "outputs": [
    {
     "name": "stdout",
     "output_type": "stream",
     "text": [
      "\n",
      "Please wait a moment while I gather a list of all available modules...\n",
      "\n"
     ]
    },
    {
     "name": "stderr",
     "output_type": "stream",
     "text": [
      "C:\\Users\\akkiy\\anaconda3\\Lib\\site-packages\\paramiko\\transport.py:219: CryptographyDeprecationWarning: Blowfish has been deprecated and will be removed in a future release\n",
      "  \"class\": algorithms.Blowfish,\n",
      "C:\\Users\\akkiy\\anaconda3\\Lib\\site-packages\\nltk\\twitter\\__init__.py:20: UserWarning: The twython library has not been installed. Some functionality from the twitter package will not be available.\n",
      "  warnings.warn(\n",
      "C:\\Users\\akkiy\\anaconda3\\Lib\\pkgutil.py:78: UserWarning: The numpy.array_api submodule is still experimental. See NEP 47.\n",
      "  __import__(info.name)\n",
      "No QCoreApplication instance found. Application patches not applied. You have to call load_stylesheet function after instantiation of QApplication to take effect. \n"
     ]
    },
    {
     "name": "stdout",
     "output_type": "stream",
     "text": [
      "7f0197f6d050da244d93__mypyc comm                mdurl               sndhdr\n",
      "IPython             commctrl            menuinst            sniffio\n",
      "OpenSSL             compileall          mimetypes           snowballstemmer\n",
      "PIL                 concurrent          mistune             socket\n",
      "PyQt5               conda               mkl                 socketserver\n",
      "__future__          conda_build         mkl_fft             socks\n",
      "__hello__           conda_content_trust mmap                sockshandler\n",
      "__phello__          conda_env           mmapfile            sortedcontainers\n",
      "_abc                conda_index         mmsystem            soupsieve\n",
      "_aix_support        conda_libmamba_solver modulefinder        sphinx\n",
      "_argon2_cffi_bindings conda_pack          more_itertools      spyder\n",
      "_ast                conda_package_handling mpmath              spyder_kernels\n",
      "_asyncio            conda_package_streaming msgpack             sqlalchemy\n",
      "_bisect             conda_token         msilib              sqlite3\n",
      "_black_version      configparser        msvcrt              sre_compile\n",
      "_blake2             constantly          multidict           sre_constants\n",
      "_brotli             contextlib          multipledispatch    sre_parse\n",
      "_bz2                contextvars         multiprocessing     ssl\n",
      "_cffi_backend       contourpy           mypy                sspi\n",
      "_codecs             cookiecutter        mypy_extensions     sspicon\n",
      "_codecs_cn          copy                mypyc               stack_data\n",
      "_codecs_hk          copyreg             nacl                stat\n",
      "_codecs_iso2022     cpuinfo             navigator_updater   statistics\n",
      "_codecs_jp          crypt               nbclient            statsmodels\n",
      "_codecs_kr          cryptography        nbconvert           streamlit\n",
      "_codecs_tw          cssselect           nbformat            string\n",
      "_collections        csv                 nest_asyncio        stringprep\n",
      "_collections_abc    ctypes              netbios             struct\n",
      "_compat_pickle      curl                netrc               subprocess\n",
      "_compression        curses              networkx            sunau\n",
      "_contextvars        cwp                 nltk                sympy\n",
      "_csv                cycler              nntplib             symtable\n",
      "_ctypes             cytoolz             notebook            sys\n",
      "_ctypes_test        dask                notebook_shim       sysconfig\n",
      "_datetime           dask_expr           nt                  tables\n",
      "_decimal            dataclasses         ntpath              tabnanny\n",
      "_distutils_hack     datashader          ntsecuritycon       tabulate\n",
      "_elementtree        datetime            nturl2path          tarfile\n",
      "_functools          dateutil            numba               tblib\n",
      "_hashlib            dbi                 numbergen           telnetlib\n",
      "_heapq              dbm                 numbers             tempfile\n",
      "_imp                dde                 numexpr             tenacity\n",
      "_io                 debugpy             numpy               terminado\n",
      "_json               decimal             numpydoc            test\n",
      "_locale             decorator           odbc                test_pycosat\n",
      "_lsprof             defusedxml          opcode              text_unidecode\n",
      "_lzma               diff_match_patch    openpyxl            textdistance\n",
      "_markupbase         difflib             operator            textwrap\n",
      "_md5                dill                optparse            this\n",
      "_msi                dis                 os                  threading\n",
      "_multibytecodec     distributed         overrides           threadpoolctl\n",
      "_multiprocessing    distro              packaging           three_merge\n",
      "_nsis               docstring_to_markdown pandas              tifffile\n",
      "_opcode             doctest             pandocfilters       time\n",
      "_operator           docutils            panel               timeit\n",
      "_osx_support        dotenv              param               timer\n",
      "_overlapped         email               paramiko            tinycss2\n",
      "_pickle             encodings           parsel              tkinter\n",
      "_plotly_future_     ensurepip           parso               tldextract\n",
      "_plotly_utils       entrypoints         partd               tlz\n",
      "_py_abc             enum                pathlib             token\n",
      "_pydatetime         erfa                pathspec            tokenize\n",
      "_pydecimal          errno               patsy               toml\n",
      "_pyio               et_xmlfile          pdb                 tomli\n",
      "_pylong             executing           perfmon             tomlkit\n",
      "_pytest             fastjsonschema      pexpect             tomllib\n",
      "_queue              faulthandler        pickle              toolz\n",
      "_random             filecmp             pickleshare         tornado\n",
      "_sha1               fileinput           pickletools         tqdm\n",
      "_sha2               filelock            pip                 trace\n",
      "_sha3               flake8              pipes               traceback\n",
      "_signal             flask               pkce                tracemalloc\n",
      "_sitebuiltins       fnmatch             pkg_resources       traitlets\n",
      "_socket             fontTools           pkginfo             truststore\n",
      "_sqlite3            fractions           pkgutil             tty\n",
      "_sre                frozendict          platform            turtle\n",
      "_ssl                frozenlist          platformdirs        turtledemo\n",
      "_stat               fsspec              plistlib            twisted\n",
      "_statistics         ftplib              plotly              types\n",
      "_string             functools           pluggy              typing\n",
      "_strptime           gc                  ply                 typing_extensions\n",
      "_struct             genericpath         poplib              tzdata\n",
      "_symtable           gensim              posixpath           uc_micro\n",
      "_system_path        getopt              pprint              ujson\n",
      "_testbuffer         getpass             profile             unicodedata\n",
      "_testcapi           gettext             prometheus_client   unicodedata2\n",
      "_testclinic         git                 prompt_toolkit      unidecode\n",
      "_testconsole        gitdb               protego             unittest\n",
      "_testimportmultiple glob                pstats              urllib\n",
      "_testinternalcapi   graphlib            psutil              urllib3\n",
      "_testmultiphase     greenlet            pty                 uu\n",
      "_testsinglephase    gzip                ptyprocess          uuid\n",
      "_thread             h11                 pure_eval           venv\n",
      "_threading_local    h5py                py                  w3lib\n",
      "_tkinter            hashlib             py_compile          warnings\n",
      "_tokenize           heapdict            pyarrow             watchdog\n",
      "_tracemalloc        heapq               pyasn1              wave\n",
      "_typing             hmac                pyasn1_modules      wcwidth\n",
      "_uuid               holoviews           pyclbr              weakref\n",
      "_warnings           html                pycodestyle         webbrowser\n",
      "_weakref            http                pycosat             webencodings\n",
      "_weakrefset         httpcore            pycparser           websocket\n",
      "_win32sysloader     httpx               pyct                werkzeug\n",
      "_winapi             hvplot              pycurl              whatthepatch\n",
      "_winxptheme         hyperlink           pydantic            wheel\n",
      "_wmi                idlelib             pydantic_core       widgetsnbextension\n",
      "_xxinterpchannels   idna                pydeck              win2kras\n",
      "_xxsubinterpreters  imagecodecs         pydispatch          win32api\n",
      "_yaml               imageio             pydoc               win32clipboard\n",
      "_zoneinfo           imagesize           pydoc_data          win32com\n",
      "abc                 imaplib             pydocstyle          win32con\n",
      "adodbapi            imblearn            pyexpat             win32console\n",
      "afxres              imghdr              pyflakes            win32cred\n",
      "aifc                importlib           pygments            win32crypt\n",
      "aiobotocore         importlib_metadata  pylab               win32cryptcon\n",
      "aiohttp             incremental         pylint              win32ctypes\n",
      "aioitertools        inflection          pylint_venv         win32event\n",
      "aiosignal           iniconfig           pyls_spyder         win32evtlog\n",
      "alabaster           inspect             pylsp               win32evtlogutil\n",
      "altair              intake              pylsp_black         win32file\n",
      "anaconda_anon_usage intervaltree        pylsp_jsonrpc       win32gui\n",
      "anaconda_catalogs   io                  pyodbc              win32gui_struct\n",
      "anaconda_cloud_auth ipaddress           pyparsing           win32help\n",
      "anaconda_navigator  ipykernel           pytest              win32inet\n",
      "anaconda_project    ipykernel_launcher  pythoncom           win32inetcon\n",
      "annotated_types     ipython_genutils    pythonjsonlogger    win32job\n",
      "antigravity         ipywidgets          pytoolconfig        win32lz\n",
      "anyio               isapi               pytz                win32net\n",
      "appdirs             isort               pyviz_comms         win32netcon\n",
      "archspec            isympy              pywin               win32pdh\n",
      "argon2              itemadapter         pywin32_bootstrap   win32pdhquery\n",
      "argparse            itemloaders         pywin32_testutil    win32pdhutil\n",
      "array               itertools           pywintypes          win32pipe\n",
      "arrow               itsdangerous        pywt                win32print\n",
      "ast                 jedi                qdarkstyle          win32process\n",
      "astroid             jellyfish           qstylizer           win32profile\n",
      "astropy             jinja2              qtawesome           win32ras\n",
      "astropy_iers_data   jmespath            qtconsole           win32rcparser\n",
      "asttokens           joblib              qtpy                win32security\n",
      "async_lru           json                queue               win32service\n",
      "asyncio             json5               queuelib            win32serviceutil\n",
      "atexit              jsonpatch           quopri              win32timezone\n",
      "atomicwrites        jsonpointer         random              win32trace\n",
      "attr                jsonschema          rasutil             win32traceutil\n",
      "attrs               jsonschema_specifications re                  win32transaction\n",
      "audioop             jupyter             referencing         win32ts\n",
      "automat             jupyter_client      regcheck            win32ui\n",
      "autopep8            jupyter_console     regex               win32uiole\n",
      "babel               jupyter_core        regutil             win32verstamp\n",
      "base64              jupyter_events      repo_cli            win32wnet\n",
      "bcrypt              jupyter_lsp         reprlib             win_inet_pton\n",
      "bdb                 jupyter_server      requests            winerror\n",
      "binaryornot         jupyter_server_terminals requests_file       winioctlcon\n",
      "binascii            jupyterlab          requests_toolbelt   winnt\n",
      "binstar_client      jupyterlab_plotly   rfc3339_validator   winperf\n",
      "bisect              jupyterlab_pygments rfc3986_validator   winpty\n",
      "black               jupyterlab_server   rich                winreg\n",
      "blackd              jupyterlab_widgets  rlcompleter         winsound\n",
      "bleach              jwt                 rope                winxpgui\n",
      "blib2to3            keyring             rpds                winxptheme\n",
      "blinker             keyword             rtree               wrapt\n",
      "bokeh               kiwisolver          ruamel_yaml         wsgiref\n",
      "boltons             lazy_loader         runpy               xarray\n",
      "botocore            lazy_object_proxy   s3fs                xdrlib\n",
      "bottleneck          lckr_jupyterlab_variableinspector sched               xlwings\n",
      "brotli              lib2to3             scipy               xlwingsjs\n",
      "bs4                 libarchive          scrapy              xml\n",
      "builtins            libmambapy          seaborn             xmlrpc\n",
      "bz2                 lief                secrets             xxlimited\n",
      "cProfile            linecache           select              xxlimited_35\n",
      "cachetools          linkify_it          selectors           xxsubtype\n",
      "calendar            llvmlite            semver              xyzservices\n",
      "certifi             lmdb                send2trash          yaml\n",
      "cffi                locale              service_identity    yapf\n",
      "cgi                 locket              servicemanager      yapf_third_party\n",
      "cgitb               logging             setuptools          yapftests\n",
      "chardet             lxml                shelve              yarl\n",
      "charset_normalizer  lz4                 shlex               zict\n",
      "chunk               lzma                shutil              zipapp\n",
      "click               mailbox             signal              zipfile\n",
      "cloudpickle         mailcap             sipbuild            zipimport\n",
      "cmath               markdown            site                zipp\n",
      "cmd                 markdown_it         six                 zlib\n",
      "code                markupsafe          skimage             zmq\n",
      "codecs              marshal             sklearn             zoneinfo\n",
      "codeop              math                slugify             zope\n",
      "collections         matplotlib          smart_open          zstandard\n",
      "colorama            matplotlib_inline   smmap               \n",
      "colorcet            mccabe              smtplib             \n",
      "colorsys            mdit_py_plugins     snappy              \n",
      "\n",
      "Enter any module name to get more help.  Or, type \"modules spam\" to search\n",
      "for modules whose name or summary contain the string \"spam\".\n",
      "\n"
     ]
    }
   ],
   "source": [
    "help('modules')"
   ]
  },
  {
   "cell_type": "code",
   "execution_count": null,
   "id": "03cf9a34-6f5e-422f-90b8-4f0c523e3f0a",
   "metadata": {},
   "outputs": [],
   "source": []
  },
  {
   "cell_type": "markdown",
   "id": "4494f92a-70f7-4a89-b542-70f4e4a3ee2b",
   "metadata": {},
   "source": [
    "## loop in python "
   ]
  },
  {
   "cell_type": "code",
   "execution_count": 6,
   "id": "05301853-c735-421e-aeb5-6335433c62b1",
   "metadata": {},
   "outputs": [
    {
     "name": "stdin",
     "output_type": "stream",
     "text": [
      "enter the number 12\n"
     ]
    },
    {
     "name": "stdout",
     "output_type": "stream",
     "text": [
      "12 * 1 = 12\n",
      "12 * 2 = 24\n",
      "12 * 3 = 36\n",
      "12 * 4 = 48\n",
      "12 * 5 = 60\n",
      "12 * 6 = 72\n",
      "12 * 7 = 84\n",
      "12 * 8 = 96\n",
      "12 * 9 = 108\n",
      "12 * 10 = 120\n"
     ]
    }
   ],
   "source": [
    "## printing table with the help of  while loops\n",
    "number = int(input('enter the number'))\n",
    "\n",
    "i= 1\n",
    "while i<11:\n",
    "    print(number,'*',i,'=',number*i)\n",
    "    i += 1"
   ]
  },
  {
   "cell_type": "code",
   "execution_count": 1,
   "id": "fad43a9c-90b2-4d2e-a0af-ec50a70294d0",
   "metadata": {},
   "outputs": [
    {
     "name": "stdout",
     "output_type": "stream",
     "text": [
      "1\n",
      "2\n",
      "limit crossed\n"
     ]
    }
   ],
   "source": [
    "##  while loop with else \n",
    "x= 1\n",
    "while x < 3:\n",
    "    print(x)\n",
    "    x +=  1 \n",
    "\n",
    "else:\n",
    "    print('limit crossed')"
   ]
  },
  {
   "cell_type": "code",
   "execution_count": 3,
   "id": "d2aed44c-7782-40d2-9f5d-09c9bd0abc32",
   "metadata": {},
   "outputs": [
    {
     "name": "stdin",
     "output_type": "stream",
     "text": [
      "guess the number 4\n"
     ]
    },
    {
     "name": "stdout",
     "output_type": "stream",
     "text": [
      "wrong, tryy agin with a higher number\n"
     ]
    },
    {
     "name": "stdin",
     "output_type": "stream",
     "text": [
      "guess again  20\n"
     ]
    },
    {
     "name": "stdout",
     "output_type": "stream",
     "text": [
      "wrong, tryy agin with a higher number\n"
     ]
    },
    {
     "name": "stdin",
     "output_type": "stream",
     "text": [
      "guess again  50\n"
     ]
    },
    {
     "name": "stdout",
     "output_type": "stream",
     "text": [
      "wrong, tryy agin with a higher number\n"
     ]
    },
    {
     "name": "stdin",
     "output_type": "stream",
     "text": [
      "guess again  60\n"
     ]
    },
    {
     "name": "stdout",
     "output_type": "stream",
     "text": [
      "wrong, tryy agin with a higher number\n"
     ]
    },
    {
     "name": "stdin",
     "output_type": "stream",
     "text": [
      "guess again  80\n"
     ]
    },
    {
     "name": "stdout",
     "output_type": "stream",
     "text": [
      "wrong, tryy agin with a lower number\n"
     ]
    },
    {
     "name": "stdin",
     "output_type": "stream",
     "text": [
      "guess again  70\n"
     ]
    },
    {
     "name": "stdout",
     "output_type": "stream",
     "text": [
      "wrong, tryy agin with a lower number\n"
     ]
    },
    {
     "name": "stdin",
     "output_type": "stream",
     "text": [
      "guess again  65\n"
     ]
    },
    {
     "name": "stdout",
     "output_type": "stream",
     "text": [
      "wrong, tryy agin with a higher number\n"
     ]
    },
    {
     "name": "stdin",
     "output_type": "stream",
     "text": [
      "guess again  68\n"
     ]
    },
    {
     "name": "stdout",
     "output_type": "stream",
     "text": [
      "wrong, tryy agin with a higher number\n"
     ]
    },
    {
     "name": "stdin",
     "output_type": "stream",
     "text": [
      "guess again  69\n"
     ]
    },
    {
     "name": "stdout",
     "output_type": "stream",
     "text": [
      "correct guess\n",
      "attempts 9\n"
     ]
    }
   ],
   "source": [
    "## guessing gamme \n",
    "import random\n",
    "jackpot = random.randint(1,100)\n",
    "\n",
    "guess = int(input('guess the number'))\n",
    "counter= 1\n",
    "\n",
    "while  guess != jackpot:\n",
    "    if guess <jackpot:\n",
    "        print('wrong, tryy agin with a higher number')\n",
    "    else :\n",
    "        print('wrong, tryy agin with a lower number')\n",
    "\n",
    "    guess = int(input('guess again '))\n",
    "    counter += 1        \n",
    "else :\n",
    "    print('correct guess')\n",
    "    print('attempts',counter) "
   ]
  },
  {
   "cell_type": "code",
   "execution_count": 4,
   "id": "fc73011c-d7d9-4fbc-889f-8f294736ffc6",
   "metadata": {},
   "outputs": [
    {
     "name": "stdout",
     "output_type": "stream",
     "text": [
      "1\n",
      "2\n",
      "3\n",
      "4\n",
      "5\n",
      "6\n",
      "7\n",
      "8\n",
      "9\n",
      "10\n"
     ]
    }
   ],
   "source": [
    "## for loop \n",
    "\n",
    "for i in range (1,11):\n",
    "    print(i)"
   ]
  },
  {
   "cell_type": "code",
   "execution_count": 6,
   "id": "3b7dd8ef-925f-4634-b9ed-b97dd2220586",
   "metadata": {},
   "outputs": [
    {
     "name": "stdout",
     "output_type": "stream",
     "text": [
      "1\n",
      "3\n",
      "5\n",
      "7\n",
      "9\n",
      "11\n",
      "13\n",
      "15\n",
      "17\n",
      "19\n"
     ]
    }
   ],
   "source": [
    "for i in range (1,21,2):\n",
    "    print(i)"
   ]
  },
  {
   "cell_type": "code",
   "execution_count": 8,
   "id": "5b5145a7-2865-4ea4-966a-39d4a2177684",
   "metadata": {},
   "outputs": [
    {
     "name": "stdout",
     "output_type": "stream",
     "text": [
      "10 10000\n",
      "9 9000.0\n",
      "8 8100.0\n",
      "7 7290.0\n",
      "6 6561.0\n",
      "5 5904.9\n",
      "4 5314.41\n",
      "3 4782.969\n",
      "2 4304.6721\n",
      "1 3874.20489\n"
     ]
    }
   ],
   "source": [
    "## for loop example \n",
    "\n",
    "c_popl =10000\n",
    "for i in range (10,0, -1):\n",
    "    print(i,c_popl)\n",
    "    c_popl= c_popl-0.1*c_popl"
   ]
  },
  {
   "cell_type": "code",
   "execution_count": null,
   "id": "bfc5142c-1843-436f-bc36-b0c2d08615fe",
   "metadata": {},
   "outputs": [],
   "source": [
    "## practice question \n"
   ]
  },
  {
   "cell_type": "markdown",
   "id": "d01ac5d6-0094-4ae7-9539-4bf396dae809",
   "metadata": {},
   "source": [
    "## nested loops "
   ]
  },
  {
   "cell_type": "code",
   "execution_count": null,
   "id": "4e2990f0-8252-4e5f-a21a-89502c216625",
   "metadata": {},
   "outputs": [],
   "source": []
  }
 ],
 "metadata": {
  "kernelspec": {
   "display_name": "Python 3 (ipykernel)",
   "language": "python",
   "name": "python3"
  },
  "language_info": {
   "codemirror_mode": {
    "name": "ipython",
    "version": 3
   },
   "file_extension": ".py",
   "mimetype": "text/x-python",
   "name": "python",
   "nbconvert_exporter": "python",
   "pygments_lexer": "ipython3",
   "version": "3.12.4"
  }
 },
 "nbformat": 4,
 "nbformat_minor": 5
}
